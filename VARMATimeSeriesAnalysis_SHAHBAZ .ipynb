{
  "nbformat": 4,
  "nbformat_minor": 0,
  "metadata": {
    "colab": {
      "provenance": []
    },
    "kernelspec": {
      "name": "python3",
      "display_name": "Python 3"
    },
    "language_info": {
      "name": "python"
    }
  },
  "cells": [
    {
      "cell_type": "markdown",
      "source": [
        "# Amna Shahbaz"
      ],
      "metadata": {
        "id": "p9c3qXq5y1ZB"
      }
    },
    {
      "cell_type": "markdown",
      "source": [
        "Implement VARMA on a time-series dataset.\n",
        "1. Import the required libraries and load the CSV data Dow_Jones_Industrial_Average.csv\n",
        "2. Perform EDA using line, histogram, and KDE plots\n",
        "3. Define the time-series evaluation functions\n",
        "4. Implement a statistical test to check stationarity in time-series\n",
        "5. Make the training data stationary by using Pandas differencing\n",
        "6. Implement cointegration test\n",
        "7. Define a parameter grid for selecting p, q, and trend\n",
        "8. Print dataframe values in the sorted order of each feature RMSE\n",
        "9. Fit VARMA and forecast\n",
        "10. Plot results.\n",
        "\n",
        "Remark: To make data stationary, we used Pandas differencing after forecasting the results. We need\n",
        "to inverse the result to the original scale(that we are able to compare train and test results). As we\n",
        "don’t have a Pandas function for this, use a custom function:\n",
        "\n",
        "\n",
        "def inverse_diff(actual_df, pred_df):\n",
        " df_res = pred_df.copy()\n",
        " columns = actual_df.columns\n",
        " for col in columns:\n",
        " df_res[str(col)+'_1st_inv_diff'] = actual_df[col].iloc[-1] + df_res[str(col)].cumsum()\n",
        " return df_res"
      ],
      "metadata": {
        "id": "ZesUfzlAy1Bb"
      }
    },
    {
      "cell_type": "markdown",
      "source": [
        "### Load the required Libraries:"
      ],
      "metadata": {
        "id": "BUd2E3u6Radi"
      }
    },
    {
      "cell_type": "code",
      "execution_count": null,
      "metadata": {
        "id": "3ix2D77bOnxg"
      },
      "outputs": [],
      "source": [
        "import pandas as pd\n",
        "import numpy as np\n",
        "import statsmodels.api as sm\n",
        "\n",
        "import matplotlib.pyplot as plt\n",
        "import seaborn as sns\n",
        "\n",
        "\n",
        "\n",
        "from statsmodels.tsa.statespace.varmax import VARMAX\n",
        "from sklearn.model_selection import ParameterGrid\n",
        "from statsmodels.tsa.vector_ar.vecm import coint_johansen\n",
        "from sklearn.model_selection import ParameterGrid\n",
        "from statsmodels.tsa.stattools import adfuller\n",
        "from pmdarima import auto_arima\n",
        "from sklearn import metrics\n",
        "from timeit import default_timer as timer\n",
        "\n",
        "\n",
        "\n",
        "import warnings\n",
        "warnings.filterwarnings('ignore')"
      ]
    },
    {
      "cell_type": "code",
      "source": [
        "pip install pmdarima"
      ],
      "metadata": {
        "colab": {
          "base_uri": "https://localhost:8080/"
        },
        "id": "nLfGeS1kc4Ga",
        "outputId": "70a85e0c-e4fb-4c4e-e977-7a92a0f6938c"
      },
      "execution_count": null,
      "outputs": [
        {
          "output_type": "stream",
          "name": "stdout",
          "text": [
            "Looking in indexes: https://pypi.org/simple, https://us-python.pkg.dev/colab-wheels/public/simple/\n",
            "Requirement already satisfied: pmdarima in /usr/local/lib/python3.8/dist-packages (2.0.2)\n",
            "Requirement already satisfied: urllib3 in /usr/local/lib/python3.8/dist-packages (from pmdarima) (1.24.3)\n",
            "Requirement already satisfied: joblib>=0.11 in /usr/local/lib/python3.8/dist-packages (from pmdarima) (1.2.0)\n",
            "Requirement already satisfied: statsmodels>=0.13.2 in /usr/local/lib/python3.8/dist-packages (from pmdarima) (0.13.5)\n",
            "Requirement already satisfied: Cython!=0.29.18,!=0.29.31,>=0.29 in /usr/local/lib/python3.8/dist-packages (from pmdarima) (0.29.32)\n",
            "Requirement already satisfied: scikit-learn>=0.22 in /usr/local/lib/python3.8/dist-packages (from pmdarima) (1.0.2)\n",
            "Requirement already satisfied: setuptools!=50.0.0,>=38.6.0 in /usr/local/lib/python3.8/dist-packages (from pmdarima) (57.4.0)\n",
            "Requirement already satisfied: numpy>=1.21.2 in /usr/local/lib/python3.8/dist-packages (from pmdarima) (1.21.6)\n",
            "Requirement already satisfied: scipy>=1.3.2 in /usr/local/lib/python3.8/dist-packages (from pmdarima) (1.7.3)\n",
            "Requirement already satisfied: pandas>=0.19 in /usr/local/lib/python3.8/dist-packages (from pmdarima) (1.3.5)\n",
            "Requirement already satisfied: python-dateutil>=2.7.3 in /usr/local/lib/python3.8/dist-packages (from pandas>=0.19->pmdarima) (2.8.2)\n",
            "Requirement already satisfied: pytz>=2017.3 in /usr/local/lib/python3.8/dist-packages (from pandas>=0.19->pmdarima) (2022.6)\n",
            "Requirement already satisfied: six>=1.5 in /usr/local/lib/python3.8/dist-packages (from python-dateutil>=2.7.3->pandas>=0.19->pmdarima) (1.15.0)\n",
            "Requirement already satisfied: threadpoolctl>=2.0.0 in /usr/local/lib/python3.8/dist-packages (from scikit-learn>=0.22->pmdarima) (3.1.0)\n",
            "Requirement already satisfied: packaging>=21.3 in /usr/local/lib/python3.8/dist-packages (from statsmodels>=0.13.2->pmdarima) (21.3)\n",
            "Requirement already satisfied: patsy>=0.5.2 in /usr/local/lib/python3.8/dist-packages (from statsmodels>=0.13.2->pmdarima) (0.5.3)\n",
            "Requirement already satisfied: pyparsing!=3.0.5,>=2.0.2 in /usr/local/lib/python3.8/dist-packages (from packaging>=21.3->statsmodels>=0.13.2->pmdarima) (3.0.9)\n"
          ]
        }
      ]
    },
    {
      "cell_type": "markdown",
      "source": [
        "### Load the dataset"
      ],
      "metadata": {
        "id": "LkyY4sHaRe5R"
      }
    },
    {
      "cell_type": "code",
      "source": [
        "df = pd.read_csv(\"/content/Dow_Jones_Industrial_Average.csv\", parse_dates= True)\n",
        "df.head(10)\n"
      ],
      "metadata": {
        "colab": {
          "base_uri": "https://localhost:8080/",
          "height": 363
        },
        "id": "KFGJ2ssFPIUC",
        "outputId": "8bbcaa7f-25f0-4a03-d116-b9e6ed269b3a"
      },
      "execution_count": null,
      "outputs": [
        {
          "output_type": "execute_result",
          "data": {
            "text/plain": [
              "         Date          Open          High           Low         Close  \\\n",
              "0  2016-01-14  16159.009766  16482.050781  16075.120117  16379.049805   \n",
              "1  2016-01-15  16354.330078  16354.330078  15842.110352  15988.080078   \n",
              "2  2016-01-19  16009.450195  16171.959961  15900.250000  16016.019531   \n",
              "3  2016-01-20  15989.450195  15989.450195  15450.559570  15766.740234   \n",
              "4  2016-01-21  15768.870117  16038.589844  15704.660156  15882.679688   \n",
              "5  2016-01-22  15921.099609  16136.790039  15921.099609  16093.509766   \n",
              "6  2016-01-25  16086.459961  16086.459961  15880.150391  15885.219727   \n",
              "7  2016-01-26  15893.160156  16185.790039  15893.160156  16167.230469   \n",
              "8  2016-01-27  16168.740234  16235.030273  15878.299805  15944.459961   \n",
              "9  2016-01-28  15960.280273  16102.139648  15863.719727  16069.639648   \n",
              "\n",
              "      Adj Close     Volume  \n",
              "0  16379.049805  158830000  \n",
              "1  15988.080078  239210000  \n",
              "2  16016.019531  144360000  \n",
              "3  15766.740234  191870000  \n",
              "4  15882.679688  145140000  \n",
              "5  16093.509766  145850000  \n",
              "6  15885.219727  123250000  \n",
              "7  16167.230469  118210000  \n",
              "8  15944.459961  138350000  \n",
              "9  16069.639648  130120000  "
            ],
            "text/html": [
              "\n",
              "  <div id=\"df-44a3087a-79e0-40dc-817c-dfd18c7f53eb\">\n",
              "    <div class=\"colab-df-container\">\n",
              "      <div>\n",
              "<style scoped>\n",
              "    .dataframe tbody tr th:only-of-type {\n",
              "        vertical-align: middle;\n",
              "    }\n",
              "\n",
              "    .dataframe tbody tr th {\n",
              "        vertical-align: top;\n",
              "    }\n",
              "\n",
              "    .dataframe thead th {\n",
              "        text-align: right;\n",
              "    }\n",
              "</style>\n",
              "<table border=\"1\" class=\"dataframe\">\n",
              "  <thead>\n",
              "    <tr style=\"text-align: right;\">\n",
              "      <th></th>\n",
              "      <th>Date</th>\n",
              "      <th>Open</th>\n",
              "      <th>High</th>\n",
              "      <th>Low</th>\n",
              "      <th>Close</th>\n",
              "      <th>Adj Close</th>\n",
              "      <th>Volume</th>\n",
              "    </tr>\n",
              "  </thead>\n",
              "  <tbody>\n",
              "    <tr>\n",
              "      <th>0</th>\n",
              "      <td>2016-01-14</td>\n",
              "      <td>16159.009766</td>\n",
              "      <td>16482.050781</td>\n",
              "      <td>16075.120117</td>\n",
              "      <td>16379.049805</td>\n",
              "      <td>16379.049805</td>\n",
              "      <td>158830000</td>\n",
              "    </tr>\n",
              "    <tr>\n",
              "      <th>1</th>\n",
              "      <td>2016-01-15</td>\n",
              "      <td>16354.330078</td>\n",
              "      <td>16354.330078</td>\n",
              "      <td>15842.110352</td>\n",
              "      <td>15988.080078</td>\n",
              "      <td>15988.080078</td>\n",
              "      <td>239210000</td>\n",
              "    </tr>\n",
              "    <tr>\n",
              "      <th>2</th>\n",
              "      <td>2016-01-19</td>\n",
              "      <td>16009.450195</td>\n",
              "      <td>16171.959961</td>\n",
              "      <td>15900.250000</td>\n",
              "      <td>16016.019531</td>\n",
              "      <td>16016.019531</td>\n",
              "      <td>144360000</td>\n",
              "    </tr>\n",
              "    <tr>\n",
              "      <th>3</th>\n",
              "      <td>2016-01-20</td>\n",
              "      <td>15989.450195</td>\n",
              "      <td>15989.450195</td>\n",
              "      <td>15450.559570</td>\n",
              "      <td>15766.740234</td>\n",
              "      <td>15766.740234</td>\n",
              "      <td>191870000</td>\n",
              "    </tr>\n",
              "    <tr>\n",
              "      <th>4</th>\n",
              "      <td>2016-01-21</td>\n",
              "      <td>15768.870117</td>\n",
              "      <td>16038.589844</td>\n",
              "      <td>15704.660156</td>\n",
              "      <td>15882.679688</td>\n",
              "      <td>15882.679688</td>\n",
              "      <td>145140000</td>\n",
              "    </tr>\n",
              "    <tr>\n",
              "      <th>5</th>\n",
              "      <td>2016-01-22</td>\n",
              "      <td>15921.099609</td>\n",
              "      <td>16136.790039</td>\n",
              "      <td>15921.099609</td>\n",
              "      <td>16093.509766</td>\n",
              "      <td>16093.509766</td>\n",
              "      <td>145850000</td>\n",
              "    </tr>\n",
              "    <tr>\n",
              "      <th>6</th>\n",
              "      <td>2016-01-25</td>\n",
              "      <td>16086.459961</td>\n",
              "      <td>16086.459961</td>\n",
              "      <td>15880.150391</td>\n",
              "      <td>15885.219727</td>\n",
              "      <td>15885.219727</td>\n",
              "      <td>123250000</td>\n",
              "    </tr>\n",
              "    <tr>\n",
              "      <th>7</th>\n",
              "      <td>2016-01-26</td>\n",
              "      <td>15893.160156</td>\n",
              "      <td>16185.790039</td>\n",
              "      <td>15893.160156</td>\n",
              "      <td>16167.230469</td>\n",
              "      <td>16167.230469</td>\n",
              "      <td>118210000</td>\n",
              "    </tr>\n",
              "    <tr>\n",
              "      <th>8</th>\n",
              "      <td>2016-01-27</td>\n",
              "      <td>16168.740234</td>\n",
              "      <td>16235.030273</td>\n",
              "      <td>15878.299805</td>\n",
              "      <td>15944.459961</td>\n",
              "      <td>15944.459961</td>\n",
              "      <td>138350000</td>\n",
              "    </tr>\n",
              "    <tr>\n",
              "      <th>9</th>\n",
              "      <td>2016-01-28</td>\n",
              "      <td>15960.280273</td>\n",
              "      <td>16102.139648</td>\n",
              "      <td>15863.719727</td>\n",
              "      <td>16069.639648</td>\n",
              "      <td>16069.639648</td>\n",
              "      <td>130120000</td>\n",
              "    </tr>\n",
              "  </tbody>\n",
              "</table>\n",
              "</div>\n",
              "      <button class=\"colab-df-convert\" onclick=\"convertToInteractive('df-44a3087a-79e0-40dc-817c-dfd18c7f53eb')\"\n",
              "              title=\"Convert this dataframe to an interactive table.\"\n",
              "              style=\"display:none;\">\n",
              "        \n",
              "  <svg xmlns=\"http://www.w3.org/2000/svg\" height=\"24px\"viewBox=\"0 0 24 24\"\n",
              "       width=\"24px\">\n",
              "    <path d=\"M0 0h24v24H0V0z\" fill=\"none\"/>\n",
              "    <path d=\"M18.56 5.44l.94 2.06.94-2.06 2.06-.94-2.06-.94-.94-2.06-.94 2.06-2.06.94zm-11 1L8.5 8.5l.94-2.06 2.06-.94-2.06-.94L8.5 2.5l-.94 2.06-2.06.94zm10 10l.94 2.06.94-2.06 2.06-.94-2.06-.94-.94-2.06-.94 2.06-2.06.94z\"/><path d=\"M17.41 7.96l-1.37-1.37c-.4-.4-.92-.59-1.43-.59-.52 0-1.04.2-1.43.59L10.3 9.45l-7.72 7.72c-.78.78-.78 2.05 0 2.83L4 21.41c.39.39.9.59 1.41.59.51 0 1.02-.2 1.41-.59l7.78-7.78 2.81-2.81c.8-.78.8-2.07 0-2.86zM5.41 20L4 18.59l7.72-7.72 1.47 1.35L5.41 20z\"/>\n",
              "  </svg>\n",
              "      </button>\n",
              "      \n",
              "  <style>\n",
              "    .colab-df-container {\n",
              "      display:flex;\n",
              "      flex-wrap:wrap;\n",
              "      gap: 12px;\n",
              "    }\n",
              "\n",
              "    .colab-df-convert {\n",
              "      background-color: #E8F0FE;\n",
              "      border: none;\n",
              "      border-radius: 50%;\n",
              "      cursor: pointer;\n",
              "      display: none;\n",
              "      fill: #1967D2;\n",
              "      height: 32px;\n",
              "      padding: 0 0 0 0;\n",
              "      width: 32px;\n",
              "    }\n",
              "\n",
              "    .colab-df-convert:hover {\n",
              "      background-color: #E2EBFA;\n",
              "      box-shadow: 0px 1px 2px rgba(60, 64, 67, 0.3), 0px 1px 3px 1px rgba(60, 64, 67, 0.15);\n",
              "      fill: #174EA6;\n",
              "    }\n",
              "\n",
              "    [theme=dark] .colab-df-convert {\n",
              "      background-color: #3B4455;\n",
              "      fill: #D2E3FC;\n",
              "    }\n",
              "\n",
              "    [theme=dark] .colab-df-convert:hover {\n",
              "      background-color: #434B5C;\n",
              "      box-shadow: 0px 1px 3px 1px rgba(0, 0, 0, 0.15);\n",
              "      filter: drop-shadow(0px 1px 2px rgba(0, 0, 0, 0.3));\n",
              "      fill: #FFFFFF;\n",
              "    }\n",
              "  </style>\n",
              "\n",
              "      <script>\n",
              "        const buttonEl =\n",
              "          document.querySelector('#df-44a3087a-79e0-40dc-817c-dfd18c7f53eb button.colab-df-convert');\n",
              "        buttonEl.style.display =\n",
              "          google.colab.kernel.accessAllowed ? 'block' : 'none';\n",
              "\n",
              "        async function convertToInteractive(key) {\n",
              "          const element = document.querySelector('#df-44a3087a-79e0-40dc-817c-dfd18c7f53eb');\n",
              "          const dataTable =\n",
              "            await google.colab.kernel.invokeFunction('convertToInteractive',\n",
              "                                                     [key], {});\n",
              "          if (!dataTable) return;\n",
              "\n",
              "          const docLinkHtml = 'Like what you see? Visit the ' +\n",
              "            '<a target=\"_blank\" href=https://colab.research.google.com/notebooks/data_table.ipynb>data table notebook</a>'\n",
              "            + ' to learn more about interactive tables.';\n",
              "          element.innerHTML = '';\n",
              "          dataTable['output_type'] = 'display_data';\n",
              "          await google.colab.output.renderOutput(dataTable, element);\n",
              "          const docLink = document.createElement('div');\n",
              "          docLink.innerHTML = docLinkHtml;\n",
              "          element.appendChild(docLink);\n",
              "        }\n",
              "      </script>\n",
              "    </div>\n",
              "  </div>\n",
              "  "
            ]
          },
          "metadata": {},
          "execution_count": 3
        }
      ]
    },
    {
      "cell_type": "code",
      "source": [
        "df.shape"
      ],
      "metadata": {
        "colab": {
          "base_uri": "https://localhost:8080/"
        },
        "id": "F05Z7ytdlTef",
        "outputId": "375f6502-73fd-44a5-fa4c-cf007a2b1def"
      },
      "execution_count": null,
      "outputs": [
        {
          "output_type": "execute_result",
          "data": {
            "text/plain": [
              "(1006, 7)"
            ]
          },
          "metadata": {},
          "execution_count": 4
        }
      ]
    },
    {
      "cell_type": "markdown",
      "source": [
        "#### The dataset consists of 1006 instances and 7 columns."
      ],
      "metadata": {
        "id": "NM-E1eLSlWbn"
      }
    },
    {
      "cell_type": "code",
      "source": [
        "df = df[(df['Date'] > '2016-01-14') & (df['Date'] <= '2017-01-30')]"
      ],
      "metadata": {
        "id": "e014WxZfBqFL"
      },
      "execution_count": null,
      "outputs": []
    },
    {
      "cell_type": "markdown",
      "source": [
        "### Checking the Null Values"
      ],
      "metadata": {
        "id": "KE4i4B-E4EAw"
      }
    },
    {
      "cell_type": "code",
      "source": [
        "df.isnull().sum()"
      ],
      "metadata": {
        "colab": {
          "base_uri": "https://localhost:8080/"
        },
        "id": "BecqPbfDlqto",
        "outputId": "05f26439-5eb5-42fc-dbdb-8491b92b1812"
      },
      "execution_count": null,
      "outputs": [
        {
          "output_type": "execute_result",
          "data": {
            "text/plain": [
              "Date         0\n",
              "Open         0\n",
              "High         0\n",
              "Low          0\n",
              "Close        0\n",
              "Adj Close    0\n",
              "Volume       0\n",
              "dtype: int64"
            ]
          },
          "metadata": {},
          "execution_count": 6
        }
      ]
    },
    {
      "cell_type": "markdown",
      "source": [
        "#### As we see, we have no Null values in dataset\n"
      ],
      "metadata": {
        "id": "Zz40u8MrUQNg"
      }
    },
    {
      "cell_type": "markdown",
      "source": [
        "## Analyze the data"
      ],
      "metadata": {
        "id": "0eJ4mKRdUDlp"
      }
    },
    {
      "cell_type": "code",
      "source": [
        "df.info()"
      ],
      "metadata": {
        "colab": {
          "base_uri": "https://localhost:8080/"
        },
        "id": "kvlTXfoFQoGD",
        "outputId": "caf2f47f-78c0-414c-c323-81cfa63c400e"
      },
      "execution_count": null,
      "outputs": [
        {
          "output_type": "stream",
          "name": "stdout",
          "text": [
            "<class 'pandas.core.frame.DataFrame'>\n",
            "Int64Index: 262 entries, 1 to 262\n",
            "Data columns (total 7 columns):\n",
            " #   Column     Non-Null Count  Dtype  \n",
            "---  ------     --------------  -----  \n",
            " 0   Date       262 non-null    object \n",
            " 1   Open       262 non-null    float64\n",
            " 2   High       262 non-null    float64\n",
            " 3   Low        262 non-null    float64\n",
            " 4   Close      262 non-null    float64\n",
            " 5   Adj Close  262 non-null    float64\n",
            " 6   Volume     262 non-null    int64  \n",
            "dtypes: float64(5), int64(1), object(1)\n",
            "memory usage: 16.4+ KB\n"
          ]
        }
      ]
    },
    {
      "cell_type": "markdown",
      "source": [
        "#### This data set is multivariate time series, here we have columns open, close, high, low and so on."
      ],
      "metadata": {
        "id": "Xh2d1aCbS_-l"
      }
    },
    {
      "cell_type": "markdown",
      "source": [
        "### Descriptive Statistics:"
      ],
      "metadata": {
        "id": "JcRdxptLTDFj"
      }
    },
    {
      "cell_type": "code",
      "source": [
        "df.describe()"
      ],
      "metadata": {
        "colab": {
          "base_uri": "https://localhost:8080/",
          "height": 301
        },
        "id": "An21ZUWoQoJ6",
        "outputId": "9419289b-8774-45ea-a2fd-59e09fd14047"
      },
      "execution_count": null,
      "outputs": [
        {
          "output_type": "execute_result",
          "data": {
            "text/plain": [
              "               Open          High           Low         Close     Adj Close  \\\n",
              "count    262.000000    262.000000    262.000000    262.000000    262.000000   \n",
              "mean   18104.893156  18182.326817  18027.596229  18116.069094  18116.069094   \n",
              "std     1020.896017    999.826345   1049.169566   1020.932351   1020.932351   \n",
              "min    15691.620117  15897.820313  15450.559570  15660.179688  15660.179688   \n",
              "25%    17654.704590  17735.082519  17551.852051  17664.238282  17664.238282   \n",
              "50%    18118.215820  18205.585938  18040.490235  18121.985351  18121.985351   \n",
              "75%    18537.913086  18579.784668  18490.890136  18546.357910  18546.357910   \n",
              "max    20103.359375  20125.580078  20072.640625  20100.910156  20100.910156   \n",
              "\n",
              "             Volume  \n",
              "count  2.620000e+02  \n",
              "mean   1.312825e+08  \n",
              "std    8.653074e+07  \n",
              "min    4.589000e+07  \n",
              "25%    8.316750e+07  \n",
              "50%    9.552000e+07  \n",
              "75%    1.311475e+08  \n",
              "max    5.734700e+08  "
            ],
            "text/html": [
              "\n",
              "  <div id=\"df-ae96e732-c6d1-4264-9355-67538b0c2655\">\n",
              "    <div class=\"colab-df-container\">\n",
              "      <div>\n",
              "<style scoped>\n",
              "    .dataframe tbody tr th:only-of-type {\n",
              "        vertical-align: middle;\n",
              "    }\n",
              "\n",
              "    .dataframe tbody tr th {\n",
              "        vertical-align: top;\n",
              "    }\n",
              "\n",
              "    .dataframe thead th {\n",
              "        text-align: right;\n",
              "    }\n",
              "</style>\n",
              "<table border=\"1\" class=\"dataframe\">\n",
              "  <thead>\n",
              "    <tr style=\"text-align: right;\">\n",
              "      <th></th>\n",
              "      <th>Open</th>\n",
              "      <th>High</th>\n",
              "      <th>Low</th>\n",
              "      <th>Close</th>\n",
              "      <th>Adj Close</th>\n",
              "      <th>Volume</th>\n",
              "    </tr>\n",
              "  </thead>\n",
              "  <tbody>\n",
              "    <tr>\n",
              "      <th>count</th>\n",
              "      <td>262.000000</td>\n",
              "      <td>262.000000</td>\n",
              "      <td>262.000000</td>\n",
              "      <td>262.000000</td>\n",
              "      <td>262.000000</td>\n",
              "      <td>2.620000e+02</td>\n",
              "    </tr>\n",
              "    <tr>\n",
              "      <th>mean</th>\n",
              "      <td>18104.893156</td>\n",
              "      <td>18182.326817</td>\n",
              "      <td>18027.596229</td>\n",
              "      <td>18116.069094</td>\n",
              "      <td>18116.069094</td>\n",
              "      <td>1.312825e+08</td>\n",
              "    </tr>\n",
              "    <tr>\n",
              "      <th>std</th>\n",
              "      <td>1020.896017</td>\n",
              "      <td>999.826345</td>\n",
              "      <td>1049.169566</td>\n",
              "      <td>1020.932351</td>\n",
              "      <td>1020.932351</td>\n",
              "      <td>8.653074e+07</td>\n",
              "    </tr>\n",
              "    <tr>\n",
              "      <th>min</th>\n",
              "      <td>15691.620117</td>\n",
              "      <td>15897.820313</td>\n",
              "      <td>15450.559570</td>\n",
              "      <td>15660.179688</td>\n",
              "      <td>15660.179688</td>\n",
              "      <td>4.589000e+07</td>\n",
              "    </tr>\n",
              "    <tr>\n",
              "      <th>25%</th>\n",
              "      <td>17654.704590</td>\n",
              "      <td>17735.082519</td>\n",
              "      <td>17551.852051</td>\n",
              "      <td>17664.238282</td>\n",
              "      <td>17664.238282</td>\n",
              "      <td>8.316750e+07</td>\n",
              "    </tr>\n",
              "    <tr>\n",
              "      <th>50%</th>\n",
              "      <td>18118.215820</td>\n",
              "      <td>18205.585938</td>\n",
              "      <td>18040.490235</td>\n",
              "      <td>18121.985351</td>\n",
              "      <td>18121.985351</td>\n",
              "      <td>9.552000e+07</td>\n",
              "    </tr>\n",
              "    <tr>\n",
              "      <th>75%</th>\n",
              "      <td>18537.913086</td>\n",
              "      <td>18579.784668</td>\n",
              "      <td>18490.890136</td>\n",
              "      <td>18546.357910</td>\n",
              "      <td>18546.357910</td>\n",
              "      <td>1.311475e+08</td>\n",
              "    </tr>\n",
              "    <tr>\n",
              "      <th>max</th>\n",
              "      <td>20103.359375</td>\n",
              "      <td>20125.580078</td>\n",
              "      <td>20072.640625</td>\n",
              "      <td>20100.910156</td>\n",
              "      <td>20100.910156</td>\n",
              "      <td>5.734700e+08</td>\n",
              "    </tr>\n",
              "  </tbody>\n",
              "</table>\n",
              "</div>\n",
              "      <button class=\"colab-df-convert\" onclick=\"convertToInteractive('df-ae96e732-c6d1-4264-9355-67538b0c2655')\"\n",
              "              title=\"Convert this dataframe to an interactive table.\"\n",
              "              style=\"display:none;\">\n",
              "        \n",
              "  <svg xmlns=\"http://www.w3.org/2000/svg\" height=\"24px\"viewBox=\"0 0 24 24\"\n",
              "       width=\"24px\">\n",
              "    <path d=\"M0 0h24v24H0V0z\" fill=\"none\"/>\n",
              "    <path d=\"M18.56 5.44l.94 2.06.94-2.06 2.06-.94-2.06-.94-.94-2.06-.94 2.06-2.06.94zm-11 1L8.5 8.5l.94-2.06 2.06-.94-2.06-.94L8.5 2.5l-.94 2.06-2.06.94zm10 10l.94 2.06.94-2.06 2.06-.94-2.06-.94-.94-2.06-.94 2.06-2.06.94z\"/><path d=\"M17.41 7.96l-1.37-1.37c-.4-.4-.92-.59-1.43-.59-.52 0-1.04.2-1.43.59L10.3 9.45l-7.72 7.72c-.78.78-.78 2.05 0 2.83L4 21.41c.39.39.9.59 1.41.59.51 0 1.02-.2 1.41-.59l7.78-7.78 2.81-2.81c.8-.78.8-2.07 0-2.86zM5.41 20L4 18.59l7.72-7.72 1.47 1.35L5.41 20z\"/>\n",
              "  </svg>\n",
              "      </button>\n",
              "      \n",
              "  <style>\n",
              "    .colab-df-container {\n",
              "      display:flex;\n",
              "      flex-wrap:wrap;\n",
              "      gap: 12px;\n",
              "    }\n",
              "\n",
              "    .colab-df-convert {\n",
              "      background-color: #E8F0FE;\n",
              "      border: none;\n",
              "      border-radius: 50%;\n",
              "      cursor: pointer;\n",
              "      display: none;\n",
              "      fill: #1967D2;\n",
              "      height: 32px;\n",
              "      padding: 0 0 0 0;\n",
              "      width: 32px;\n",
              "    }\n",
              "\n",
              "    .colab-df-convert:hover {\n",
              "      background-color: #E2EBFA;\n",
              "      box-shadow: 0px 1px 2px rgba(60, 64, 67, 0.3), 0px 1px 3px 1px rgba(60, 64, 67, 0.15);\n",
              "      fill: #174EA6;\n",
              "    }\n",
              "\n",
              "    [theme=dark] .colab-df-convert {\n",
              "      background-color: #3B4455;\n",
              "      fill: #D2E3FC;\n",
              "    }\n",
              "\n",
              "    [theme=dark] .colab-df-convert:hover {\n",
              "      background-color: #434B5C;\n",
              "      box-shadow: 0px 1px 3px 1px rgba(0, 0, 0, 0.15);\n",
              "      filter: drop-shadow(0px 1px 2px rgba(0, 0, 0, 0.3));\n",
              "      fill: #FFFFFF;\n",
              "    }\n",
              "  </style>\n",
              "\n",
              "      <script>\n",
              "        const buttonEl =\n",
              "          document.querySelector('#df-ae96e732-c6d1-4264-9355-67538b0c2655 button.colab-df-convert');\n",
              "        buttonEl.style.display =\n",
              "          google.colab.kernel.accessAllowed ? 'block' : 'none';\n",
              "\n",
              "        async function convertToInteractive(key) {\n",
              "          const element = document.querySelector('#df-ae96e732-c6d1-4264-9355-67538b0c2655');\n",
              "          const dataTable =\n",
              "            await google.colab.kernel.invokeFunction('convertToInteractive',\n",
              "                                                     [key], {});\n",
              "          if (!dataTable) return;\n",
              "\n",
              "          const docLinkHtml = 'Like what you see? Visit the ' +\n",
              "            '<a target=\"_blank\" href=https://colab.research.google.com/notebooks/data_table.ipynb>data table notebook</a>'\n",
              "            + ' to learn more about interactive tables.';\n",
              "          element.innerHTML = '';\n",
              "          dataTable['output_type'] = 'display_data';\n",
              "          await google.colab.output.renderOutput(dataTable, element);\n",
              "          const docLink = document.createElement('div');\n",
              "          docLink.innerHTML = docLinkHtml;\n",
              "          element.appendChild(docLink);\n",
              "        }\n",
              "      </script>\n",
              "    </div>\n",
              "  </div>\n",
              "  "
            ]
          },
          "metadata": {},
          "execution_count": 8
        }
      ]
    },
    {
      "cell_type": "markdown",
      "source": [
        "### Show the summary of descriptive statistics for each numeric feature."
      ],
      "metadata": {
        "id": "ivaH5023T2XE"
      }
    },
    {
      "cell_type": "markdown",
      "source": [
        "# Perform EDA using line, histogram, and KDE plots:\n",
        "#### To understand the insights of data, we plot it."
      ],
      "metadata": {
        "id": "n4rwKh2rJRnJ"
      }
    },
    {
      "cell_type": "markdown",
      "source": [
        "## Creating Line Plot for the column [\"Open\", \"High\", \"Low\", \"Close\"]"
      ],
      "metadata": {
        "id": "jqMyT7SlIqPK"
      }
    },
    {
      "cell_type": "code",
      "source": [
        "for c in df[['Open', 'High', 'Low', 'Close']]:\n",
        "    df[str(c)].plot(figsize=(15, 6))\n",
        "    plt.xlabel(\"Date\")\n",
        "    plt.ylabel(c)\n",
        "    plt.title(f\"{str(c)}\")\n",
        "    plt.show()"
      ],
      "metadata": {
        "id": "L4LZVX-fQoOh",
        "colab": {
          "base_uri": "https://localhost:8080/",
          "height": 1000
        },
        "outputId": "e6e6c7a7-2323-47d6-924a-869ffab57169"
      },
      "execution_count": null,
      "outputs": [
        {
          "output_type": "display_data",
          "data": {
            "text/plain": [
              "<Figure size 1080x432 with 1 Axes>"
            ],
            "image/png": "[encoded data removed]"
          },
          "metadata": {
            "needs_background": "light"
          }
        },
        {
          "output_type": "display_data",
          "data": {
            "text/plain": [
              "<Figure size 1080x432 with 1 Axes>"
            ],
            "image/png": "[encoded data removed]"
          },
          "metadata": {
            "needs_background": "light"
          }
        },
        {
          "output_type": "display_data",
          "data": {
            "text/plain": [
              "<Figure size 1080x432 with 1 Axes>"
            ],
            "image/png": "[encoded data removed]"
          },
          "metadata": {
            "needs_background": "light"
          }
        },
        {
          "output_type": "display_data",
          "data": {
            "text/plain": [
              "<Figure size 1080x432 with 1 Axes>"
            ],
            "image/png": "[encoded data removed]"
          },
          "metadata": {
            "needs_background": "light"
          }
        }
      ]
    },
    {
      "cell_type": "markdown",
      "source": [
        "# Histogram:"
      ],
      "metadata": {
        "id": "Xuy9qRnnMJIS"
      }
    },
    {
      "cell_type": "markdown",
      "source": [
        "#### Histogram shows the distribution of data an specific time interval. Each bar shows the value of data in pane."
      ],
      "metadata": {
        "id": "OoTBjR6dkrd9"
      }
    },
    {
      "cell_type": "code",
      "source": [
        "fig, axs = plt.subplots(2, 2, figsize=(15, 10))\n",
        "sns.histplot(data=df, x=\"Open\", kde=True, color=\"skyblue\", ax=axs[0, 0])\n",
        "sns.histplot(data=df, x=\"Close\", kde=True, color=\"olive\", ax=axs[0, 1])\n",
        "sns.histplot(data=df, x=\"High\", kde=True, color=\"gold\", ax=axs[1, 0])\n",
        "sns.histplot(data=df, x=\"Low\", kde=True, color=\"teal\", ax=axs[1, 1])\n",
        "\n",
        "plt.show()\n"
      ],
      "metadata": {
        "colab": {
          "base_uri": "https://localhost:8080/",
          "height": 606
        },
        "id": "gYzzQ2NMMGX1",
        "outputId": "dd5e9315-d70b-4c97-b995-53eb025d9454"
      },
      "execution_count": null,
      "outputs": [
        {
          "output_type": "display_data",
          "data": {
            "text/plain": [
              "<Figure size 1080x720 with 4 Axes>"
            ],
            "image/png": "[encoded data removed]"
          },
          "metadata": {
            "needs_background": "light"
          }
        }
      ]
    },
    {
      "cell_type": "markdown",
      "source": [
        "## Kernel Density Estimation Plot (KDE):"
      ],
      "metadata": {
        "id": "k0MImRGPpet2"
      }
    },
    {
      "cell_type": "markdown",
      "source": [
        "#### kernel density estimation is a way of estamiting an unknown probability density function given in data."
      ],
      "metadata": {
        "id": "bVlqmVcVkkXa"
      }
    },
    {
      "cell_type": "code",
      "source": [
        "fig, axs = plt.subplots(2, 2, figsize=(15, 7))\n",
        "p1=sns.kdeplot(df['Open'], shade=True, color=\"b\",ax=axs[0,0])\n",
        "p2=sns.kdeplot(df['Close'], shade=True, color=\"g\",ax=axs[0,1])\n",
        "p3=sns.kdeplot(df['High'], shade=True, color=\"r\",ax=axs[1,0])\n",
        "p4=sns.kdeplot(df['Low'], shade=True, color=\"y\",ax=axs[1,1])\n",
        "plt.show()"
      ],
      "metadata": {
        "id": "vlqP_XCmPIdB",
        "colab": {
          "base_uri": "https://localhost:8080/",
          "height": 442
        },
        "outputId": "cf07293f-a70d-4bec-a462-b153131d5754"
      },
      "execution_count": null,
      "outputs": [
        {
          "output_type": "display_data",
          "data": {
            "text/plain": [
              "<Figure size 1080x504 with 4 Axes>"
            ],
            "image/png": "[encoded data removed]"
          },
          "metadata": {
            "needs_background": "light"
          }
        }
      ]
    },
    {
      "cell_type": "markdown",
      "source": [
        "## Time series Evaluation Metrics:"
      ],
      "metadata": {
        "id": "YFM6GVVW68En"
      }
    },
    {
      "cell_type": "code",
      "source": [
        "def timeseries_evaluation_metrics_func(y_true, y_pred):\n",
        "    \n",
        "    def mean_absolute_percentage_error(y_true, y_pred): \n",
        "        y_true, y_pred = np.array(y_true), np.array(y_pred)\n",
        "        return np.mean(np.abs((y_true - y_pred) / y_true)) * 100\n",
        "    print('Evaluation metric results:-')\n",
        "    print(f'MSE is : {metrics.mean_squared_error(y_true, y_pred)}')\n",
        "    print(f'MAE is : {metrics.mean_absolute_error(y_true, y_pred)}')\n",
        "    print(f'RMSE is : {np.sqrt(metrics.mean_squared_error(y_true, y_pred))}')\n",
        "    print(f'MAPE is : {mean_absolute_percentage_error(y_true, y_pred)}')\n",
        "    print(f'R2 is : {metrics.r2_score(y_true, y_pred)}',end='\\n\\n')"
      ],
      "metadata": {
        "id": "mLPVyqXxoeYu"
      },
      "execution_count": null,
      "outputs": []
    },
    {
      "cell_type": "markdown",
      "source": [
        "# Dickey-Fuller test (ADF) to check data is stationary or not! "
      ],
      "metadata": {
        "id": "nWjX0otwYJgK"
      }
    },
    {
      "cell_type": "code",
      "source": [
        "def Augmented_Dickey_Fuller_Test_func(series , column_name):\n",
        "    print (f'Results of Dickey-Fuller Test for column: {column_name}')\n",
        "    dftest = adfuller(series, autolag='AIC')\n",
        "    dfoutput = pd.Series(dftest[0:4], index=['Test Statistic','p-value','No Lags Used','Number of Observations Used'])\n",
        "    for key,value in dftest[4].items():\n",
        "       dfoutput['Critical Value (%s)'%key] = value\n",
        "    print (dfoutput)\n",
        "    if dftest[1] <= 0.05:\n",
        "        print(\"Conclusion:====>\")\n",
        "        print(\"Reject the null hypothesis\")\n",
        "        print(\"Data is stationary\")\n",
        "    else:\n",
        "        print(\"Conclusion:====>\")\n",
        "        print(\"Fail to reject the null hypothesis\")\n",
        "        print(\"Data is non-stationary\")"
      ],
      "metadata": {
        "id": "DaMuV2Q3ofpj"
      },
      "execution_count": null,
      "outputs": []
    },
    {
      "cell_type": "markdown",
      "source": [
        "## Here we have multiple time series, check for every time series:"
      ],
      "metadata": {
        "id": "6oqQ0srnZiX9"
      }
    },
    {
      "cell_type": "code",
      "source": [
        "for name, column in df[['Open', 'High', 'Low', 'Close']].iteritems():\n",
        "    Augmented_Dickey_Fuller_Test_func(df[name],name)\n",
        "    print('\\n')"
      ],
      "metadata": {
        "colab": {
          "base_uri": "https://localhost:8080/"
        },
        "id": "VgJr2ODvofmw",
        "outputId": "8036bd6e-a222-46a4-a6e9-276c81b1f982"
      },
      "execution_count": null,
      "outputs": [
        {
          "output_type": "stream",
          "name": "stdout",
          "text": [
            "Results of Dickey-Fuller Test for column: Open\n",
            "Test Statistic                  -0.776223\n",
            "p-value                          0.826007\n",
            "No Lags Used                     0.000000\n",
            "Number of Observations Used    261.000000\n",
            "Critical Value (1%)             -3.455656\n",
            "Critical Value (5%)             -2.872678\n",
            "Critical Value (10%)            -2.572705\n",
            "dtype: float64\n",
            "Conclusion:====>\n",
            "Fail to reject the null hypothesis\n",
            "Data is non-stationary\n",
            "\n",
            "\n",
            "Results of Dickey-Fuller Test for column: High\n",
            "Test Statistic                  -1.240162\n",
            "p-value                          0.656085\n",
            "No Lags Used                     2.000000\n",
            "Number of Observations Used    259.000000\n",
            "Critical Value (1%)             -3.455853\n",
            "Critical Value (5%)             -2.872765\n",
            "Critical Value (10%)            -2.572752\n",
            "dtype: float64\n",
            "Conclusion:====>\n",
            "Fail to reject the null hypothesis\n",
            "Data is non-stationary\n",
            "\n",
            "\n",
            "Results of Dickey-Fuller Test for column: Low\n",
            "Test Statistic                  -0.981046\n",
            "p-value                          0.760114\n",
            "No Lags Used                    13.000000\n",
            "Number of Observations Used    248.000000\n",
            "Critical Value (1%)             -3.456996\n",
            "Critical Value (5%)             -2.873266\n",
            "Critical Value (10%)            -2.573019\n",
            "dtype: float64\n",
            "Conclusion:====>\n",
            "Fail to reject the null hypothesis\n",
            "Data is non-stationary\n",
            "\n",
            "\n",
            "Results of Dickey-Fuller Test for column: Close\n",
            "Test Statistic                  -1.265244\n",
            "p-value                          0.644919\n",
            "No Lags Used                     0.000000\n",
            "Number of Observations Used    261.000000\n",
            "Critical Value (1%)             -3.455656\n",
            "Critical Value (5%)             -2.872678\n",
            "Critical Value (10%)            -2.572705\n",
            "dtype: float64\n",
            "Conclusion:====>\n",
            "Fail to reject the null hypothesis\n",
            "Data is non-stationary\n",
            "\n",
            "\n"
          ]
        }
      ]
    },
    {
      "cell_type": "markdown",
      "source": [
        "### As to see above, data is non stationary."
      ],
      "metadata": {
        "id": "xpCGpWxtZQ7O"
      }
    },
    {
      "cell_type": "markdown",
      "source": [
        "# Spliting the data into train and test:"
      ],
      "metadata": {
        "id": "2HdfqoLuZYbW"
      }
    },
    {
      "cell_type": "code",
      "source": [
        "X = df[['Open', 'High', 'Low', 'Close' ]]\n",
        "train, test = X[0:-30], X[-30:]"
      ],
      "metadata": {
        "id": "p-hKlQN4ofkC"
      },
      "execution_count": null,
      "outputs": []
    },
    {
      "cell_type": "markdown",
      "source": [
        "# Applying the differncing method on time series: \n",
        "\n",
        "#### To use this method, made the time series data stationary."
      ],
      "metadata": {
        "id": "qywfK0ThavdS"
      }
    },
    {
      "cell_type": "code",
      "source": [
        "train_difference = train.diff()\n",
        "train_difference.dropna(inplace = True)"
      ],
      "metadata": {
        "id": "xcY0AXGuoffB"
      },
      "execution_count": null,
      "outputs": []
    },
    {
      "cell_type": "code",
      "source": [
        "for name, column in train_difference[['Open', 'High', 'Low', 'Close' ]].iteritems():\n",
        "    Augmented_Dickey_Fuller_Test_func(train_difference[name],name)\n",
        "    print('\\n')"
      ],
      "metadata": {
        "colab": {
          "base_uri": "https://localhost:8080/"
        },
        "id": "W6liBrlCofcz",
        "outputId": "773a234a-f08c-4793-98d9-dc28c165040e"
      },
      "execution_count": null,
      "outputs": [
        {
          "output_type": "stream",
          "name": "stdout",
          "text": [
            "Results of Dickey-Fuller Test for column: Open\n",
            "Test Statistic                -1.579687e+01\n",
            "p-value                        1.085613e-28\n",
            "No Lags Used                   0.000000e+00\n",
            "Number of Observations Used    2.300000e+02\n",
            "Critical Value (1%)           -3.459106e+00\n",
            "Critical Value (5%)           -2.874190e+00\n",
            "Critical Value (10%)          -2.573512e+00\n",
            "dtype: float64\n",
            "Conclusion:====>\n",
            "Reject the null hypothesis\n",
            "Data is stationary\n",
            "\n",
            "\n",
            "Results of Dickey-Fuller Test for column: High\n",
            "Test Statistic                -1.172782e+01\n",
            "p-value                        1.364178e-21\n",
            "No Lags Used                   1.000000e+00\n",
            "Number of Observations Used    2.290000e+02\n",
            "Critical Value (1%)           -3.459233e+00\n",
            "Critical Value (5%)           -2.874245e+00\n",
            "Critical Value (10%)          -2.573541e+00\n",
            "dtype: float64\n",
            "Conclusion:====>\n",
            "Reject the null hypothesis\n",
            "Data is stationary\n",
            "\n",
            "\n",
            "Results of Dickey-Fuller Test for column: Low\n",
            "Test Statistic                  -3.997846\n",
            "p-value                          0.001422\n",
            "No Lags Used                    12.000000\n",
            "Number of Observations Used    218.000000\n",
            "Critical Value (1%)             -3.460708\n",
            "Critical Value (5%)             -2.874891\n",
            "Critical Value (10%)            -2.573886\n",
            "dtype: float64\n",
            "Conclusion:====>\n",
            "Reject the null hypothesis\n",
            "Data is stationary\n",
            "\n",
            "\n",
            "Results of Dickey-Fuller Test for column: Close\n",
            "Test Statistic                -1.649354e+01\n",
            "p-value                        2.181200e-29\n",
            "No Lags Used                   0.000000e+00\n",
            "Number of Observations Used    2.300000e+02\n",
            "Critical Value (1%)           -3.459106e+00\n",
            "Critical Value (5%)           -2.874190e+00\n",
            "Critical Value (10%)          -2.573512e+00\n",
            "dtype: float64\n",
            "Conclusion:====>\n",
            "Reject the null hypothesis\n",
            "Data is stationary\n",
            "\n",
            "\n"
          ]
        }
      ]
    },
    {
      "cell_type": "markdown",
      "source": [
        "### As to see above, the time series data, we are using for modelling is stationary."
      ],
      "metadata": {
        "id": "qQa2KefjbdFQ"
      }
    },
    {
      "cell_type": "markdown",
      "source": [
        "# Implement cointegration test:"
      ],
      "metadata": {
        "id": "y1xt5sSMb128"
      }
    },
    {
      "cell_type": "code",
      "source": [
        "def cointegration_test(df): \n",
        "    res = coint_johansen(df,-1,5)\n",
        "    d = {'0.90':0, '0.95':1, '0.99':2}\n",
        "    traces = res.lr1\n",
        "    cvts = res.cvt[:, d[str(1-0.05)]]\n",
        "    def adjust(val, length= 6): \n",
        "        return str(val).ljust(length)\n",
        "    print('Column Name   >  Test Stat > C(95%)    =>   Signif  \\n', '--'*20)\n",
        "    for col, trace, cvt in zip(df.columns, traces, cvts):\n",
        "        print(adjust(col), '> ', adjust(round(trace,2), 9), \">\", adjust(cvt, 8), ' =>  ' , trace > cvt)"
      ],
      "metadata": {
        "id": "lbKWGEShofZp"
      },
      "execution_count": null,
      "outputs": []
    },
    {
      "cell_type": "markdown",
      "source": [
        "#### Check the correlation between the time series. To Understand how time series interact with one another will help us create models that are more accurate."
      ],
      "metadata": {
        "id": "kp6rdVdKcKBZ"
      }
    },
    {
      "cell_type": "code",
      "source": [
        "cointegration_test(train_difference[['Open', 'High', 'Low', 'Close']])"
      ],
      "metadata": {
        "colab": {
          "base_uri": "https://localhost:8080/"
        },
        "id": "MkTKmjk5ofUE",
        "outputId": "eb4d0202-033f-4168-af7f-8c68cac07ad7"
      },
      "execution_count": null,
      "outputs": [
        {
          "output_type": "stream",
          "name": "stdout",
          "text": [
            "Column Name   >  Test Stat > C(95%)    =>   Signif  \n",
            " ----------------------------------------\n",
            "Open   >  311.57    > 40.1749   =>   True\n",
            "High   >  201.62    > 24.2761   =>   True\n",
            "Low    >  102.52    > 12.3212   =>   True\n",
            "Close  >  32.21     > 4.1296    =>   True\n"
          ]
        }
      ]
    },
    {
      "cell_type": "code",
      "source": [
        "pq = []\n",
        "for name, column in train_difference[[ 'Open', 'High', 'Low', 'Close'  ]].iteritems():\n",
        "    print(f'Searching order of p and q for : {name}')\n",
        "    stepwise_model = auto_arima(train_difference[name],start_p=1, start_q=1,max_p=7, max_q=7, seasonal=False,\n",
        "        trace=True,error_action='ignore',suppress_warnings=True, stepwise=True,maxiter=1000)\n",
        "    parameter = stepwise_model.get_params().get('order')\n",
        "    print(f'optimal order for:{name} is: {parameter} \\n\\n')\n",
        "    pq.append(stepwise_model.get_params().get('order'))"
      ],
      "metadata": {
        "colab": {
          "base_uri": "https://localhost:8080/"
        },
        "id": "0QfprpZPoujb",
        "outputId": "db37e55b-1c19-4f89-bc1d-9b5337e820b4"
      },
      "execution_count": null,
      "outputs": [
        {
          "output_type": "stream",
          "name": "stdout",
          "text": [
            "Searching order of p and q for : Open\n",
            "Performing stepwise search to minimize aic\n",
            " ARIMA(1,0,1)(0,0,0)[0]             : AIC=2891.139, Time=0.14 sec\n",
            " ARIMA(0,0,0)(0,0,0)[0]             : AIC=2887.158, Time=0.02 sec\n",
            " ARIMA(1,0,0)(0,0,0)[0]             : AIC=2889.136, Time=0.06 sec\n",
            " ARIMA(0,0,1)(0,0,0)[0]             : AIC=2889.135, Time=0.06 sec\n",
            " ARIMA(0,0,0)(0,0,0)[0] intercept   : AIC=2885.680, Time=0.02 sec\n",
            " ARIMA(1,0,0)(0,0,0)[0] intercept   : AIC=2887.514, Time=0.14 sec\n",
            " ARIMA(0,0,1)(0,0,0)[0] intercept   : AIC=2887.501, Time=0.40 sec\n",
            " ARIMA(1,0,1)(0,0,0)[0] intercept   : AIC=2889.092, Time=0.45 sec\n",
            "\n",
            "Best model:  ARIMA(0,0,0)(0,0,0)[0] intercept\n",
            "Total fit time: 1.317 seconds\n",
            "optimal order for:Open is: (0, 0, 0) \n",
            "\n",
            "\n",
            "Searching order of p and q for : High\n",
            "Performing stepwise search to minimize aic\n",
            " ARIMA(1,0,1)(0,0,0)[0]             : AIC=2806.440, Time=0.09 sec\n",
            " ARIMA(0,0,0)(0,0,0)[0]             : AIC=2811.486, Time=0.02 sec\n",
            " ARIMA(1,0,0)(0,0,0)[0]             : AIC=2808.164, Time=0.06 sec\n",
            " ARIMA(0,0,1)(0,0,0)[0]             : AIC=2806.467, Time=0.05 sec\n",
            " ARIMA(2,0,1)(0,0,0)[0]             : AIC=2807.648, Time=0.13 sec\n",
            " ARIMA(1,0,2)(0,0,0)[0]             : AIC=2807.891, Time=0.09 sec\n",
            " ARIMA(0,0,2)(0,0,0)[0]             : AIC=2805.904, Time=0.05 sec\n",
            " ARIMA(0,0,3)(0,0,0)[0]             : AIC=2807.869, Time=0.12 sec\n",
            " ARIMA(1,0,3)(0,0,0)[0]             : AIC=2808.401, Time=0.47 sec\n",
            " ARIMA(0,0,2)(0,0,0)[0] intercept   : AIC=2803.157, Time=0.13 sec\n",
            " ARIMA(0,0,1)(0,0,0)[0] intercept   : AIC=2804.845, Time=0.38 sec\n",
            " ARIMA(1,0,2)(0,0,0)[0] intercept   : AIC=2805.136, Time=0.81 sec\n",
            " ARIMA(0,0,3)(0,0,0)[0] intercept   : AIC=2805.124, Time=0.97 sec\n",
            " ARIMA(1,0,1)(0,0,0)[0] intercept   : AIC=2804.389, Time=0.74 sec\n",
            " ARIMA(1,0,3)(0,0,0)[0] intercept   : AIC=2807.131, Time=0.56 sec\n",
            "\n",
            "Best model:  ARIMA(0,0,2)(0,0,0)[0] intercept\n",
            "Total fit time: 4.720 seconds\n",
            "optimal order for:High is: (0, 0, 2) \n",
            "\n",
            "\n",
            "Searching order of p and q for : Low\n",
            "Performing stepwise search to minimize aic\n",
            " ARIMA(1,0,1)(0,0,0)[0]             : AIC=inf, Time=0.48 sec\n",
            " ARIMA(0,0,0)(0,0,0)[0]             : AIC=2891.145, Time=0.03 sec\n",
            " ARIMA(1,0,0)(0,0,0)[0]             : AIC=2891.633, Time=0.06 sec\n",
            " ARIMA(0,0,1)(0,0,0)[0]             : AIC=2891.129, Time=0.14 sec\n",
            " ARIMA(0,0,2)(0,0,0)[0]             : AIC=2888.213, Time=0.32 sec\n",
            " ARIMA(1,0,2)(0,0,0)[0]             : AIC=2889.274, Time=0.39 sec\n",
            " ARIMA(0,0,3)(0,0,0)[0]             : AIC=2889.060, Time=0.29 sec\n",
            " ARIMA(1,0,3)(0,0,0)[0]             : AIC=2890.961, Time=0.47 sec\n",
            " ARIMA(0,0,2)(0,0,0)[0] intercept   : AIC=2885.194, Time=0.37 sec\n",
            " ARIMA(0,0,1)(0,0,0)[0] intercept   : AIC=2889.623, Time=0.43 sec\n",
            " ARIMA(1,0,2)(0,0,0)[0] intercept   : AIC=2886.651, Time=1.15 sec\n",
            " ARIMA(0,0,3)(0,0,0)[0] intercept   : AIC=2886.739, Time=0.82 sec\n",
            " ARIMA(1,0,1)(0,0,0)[0] intercept   : AIC=inf, Time=0.78 sec\n",
            " ARIMA(1,0,3)(0,0,0)[0] intercept   : AIC=2888.616, Time=1.16 sec\n",
            "\n",
            "Best model:  ARIMA(0,0,2)(0,0,0)[0] intercept\n",
            "Total fit time: 6.930 seconds\n",
            "optimal order for:Low is: (0, 0, 2) \n",
            "\n",
            "\n",
            "Searching order of p and q for : Close\n",
            "Performing stepwise search to minimize aic\n",
            " ARIMA(1,0,1)(0,0,0)[0]             : AIC=2917.053, Time=0.38 sec\n",
            " ARIMA(0,0,0)(0,0,0)[0]             : AIC=2914.350, Time=0.02 sec\n",
            " ARIMA(1,0,0)(0,0,0)[0]             : AIC=2915.132, Time=0.03 sec\n",
            " ARIMA(0,0,1)(0,0,0)[0]             : AIC=2915.077, Time=0.17 sec\n",
            " ARIMA(0,0,0)(0,0,0)[0] intercept   : AIC=2912.741, Time=0.04 sec\n",
            " ARIMA(1,0,0)(0,0,0)[0] intercept   : AIC=2912.866, Time=0.07 sec\n",
            " ARIMA(0,0,1)(0,0,0)[0] intercept   : AIC=2912.699, Time=0.41 sec\n",
            " ARIMA(1,0,1)(0,0,0)[0] intercept   : AIC=2914.239, Time=0.88 sec\n",
            " ARIMA(0,0,2)(0,0,0)[0] intercept   : AIC=2914.385, Time=0.56 sec\n",
            " ARIMA(1,0,2)(0,0,0)[0] intercept   : AIC=2916.232, Time=1.15 sec\n",
            "\n",
            "Best model:  ARIMA(0,0,1)(0,0,0)[0] intercept\n",
            "Total fit time: 3.752 seconds\n",
            "optimal order for:Close is: (0, 0, 1) \n",
            "\n",
            "\n"
          ]
        }
      ]
    },
    {
      "cell_type": "markdown",
      "source": [
        "# Dictionary of parameters for grid search:\n",
        "### Parameters in the varma models are (p, q and d)."
      ],
      "metadata": {
        "id": "kf_mTZExoxrB"
      }
    },
    {
      "cell_type": "code",
      "source": [
        "param_grid = {'p': [1,2,3], 'q':[1,2,3], 'tr': ['n','c','t','ct']}\n",
        "pg = list(ParameterGrid(param_grid))"
      ],
      "metadata": {
        "id": "gyXOms3tougm"
      },
      "execution_count": null,
      "outputs": []
    },
    {
      "cell_type": "code",
      "source": [
        "def inverse_diff(actual_df, pred_df):\n",
        "    df_res = pred_df.copy()\n",
        "    columns = actual_df.columns\n",
        "    for col in columns: \n",
        "        df_res[str(col)+'_1st_inv_diff'] = actual_df[col].iloc[-1] + df_res[str(col)].cumsum()\n",
        "    return df_res"
      ],
      "metadata": {
        "id": "yY7DFlSt_eWI"
      },
      "execution_count": null,
      "outputs": []
    },
    {
      "cell_type": "code",
      "source": [
        "pg\n"
      ],
      "metadata": {
        "colab": {
          "base_uri": "https://localhost:8080/"
        },
        "id": "JcE3xNCOouds",
        "outputId": "15c33824-9083-4a28-def0-d6ce0e095913"
      },
      "execution_count": null,
      "outputs": [
        {
          "output_type": "execute_result",
          "data": {
            "text/plain": [
              "[{'p': 1, 'q': 1, 'tr': 'n'},\n",
              " {'p': 1, 'q': 1, 'tr': 'c'},\n",
              " {'p': 1, 'q': 1, 'tr': 't'},\n",
              " {'p': 1, 'q': 1, 'tr': 'ct'},\n",
              " {'p': 1, 'q': 2, 'tr': 'n'},\n",
              " {'p': 1, 'q': 2, 'tr': 'c'},\n",
              " {'p': 1, 'q': 2, 'tr': 't'},\n",
              " {'p': 1, 'q': 2, 'tr': 'ct'},\n",
              " {'p': 1, 'q': 3, 'tr': 'n'},\n",
              " {'p': 1, 'q': 3, 'tr': 'c'},\n",
              " {'p': 1, 'q': 3, 'tr': 't'},\n",
              " {'p': 1, 'q': 3, 'tr': 'ct'},\n",
              " {'p': 2, 'q': 1, 'tr': 'n'},\n",
              " {'p': 2, 'q': 1, 'tr': 'c'},\n",
              " {'p': 2, 'q': 1, 'tr': 't'},\n",
              " {'p': 2, 'q': 1, 'tr': 'ct'},\n",
              " {'p': 2, 'q': 2, 'tr': 'n'},\n",
              " {'p': 2, 'q': 2, 'tr': 'c'},\n",
              " {'p': 2, 'q': 2, 'tr': 't'},\n",
              " {'p': 2, 'q': 2, 'tr': 'ct'},\n",
              " {'p': 2, 'q': 3, 'tr': 'n'},\n",
              " {'p': 2, 'q': 3, 'tr': 'c'},\n",
              " {'p': 2, 'q': 3, 'tr': 't'},\n",
              " {'p': 2, 'q': 3, 'tr': 'ct'},\n",
              " {'p': 3, 'q': 1, 'tr': 'n'},\n",
              " {'p': 3, 'q': 1, 'tr': 'c'},\n",
              " {'p': 3, 'q': 1, 'tr': 't'},\n",
              " {'p': 3, 'q': 1, 'tr': 'ct'},\n",
              " {'p': 3, 'q': 2, 'tr': 'n'},\n",
              " {'p': 3, 'q': 2, 'tr': 'c'},\n",
              " {'p': 3, 'q': 2, 'tr': 't'},\n",
              " {'p': 3, 'q': 2, 'tr': 'ct'},\n",
              " {'p': 3, 'q': 3, 'tr': 'n'},\n",
              " {'p': 3, 'q': 3, 'tr': 'c'},\n",
              " {'p': 3, 'q': 3, 'tr': 't'},\n",
              " {'p': 3, 'q': 3, 'tr': 'ct'}]"
            ]
          },
          "metadata": {},
          "execution_count": 23
        }
      ]
    },
    {
      "cell_type": "markdown",
      "source": [
        "## Fit the Model:"
      ],
      "metadata": {
        "id": "tMX-csZOrHO_"
      }
    },
    {
      "cell_type": "code",
      "source": [
        "df_results_moni = pd.DataFrame(columns=['p', 'q','RMSE Open','RMSE High','RMSE Low','RMSE Close'])\n",
        "print('Grid Search Started')\n",
        "start = timer()\n",
        "for i in pq:\n",
        "    if i[0]== 0 and i[2] ==0:\n",
        "        pass\n",
        "    else:\n",
        "        print(f' Running for {i}')\n",
        "        model = VARMAX(train_difference[[ 'Open', 'High', 'Low', 'Close'   ]], order=(i[0],i[2])).fit( disp=False)\n",
        "        result = model.forecast(steps = 30)\n",
        "        inv_res = inverse_diff(df[[ 'Open', 'High', 'Low', 'Close'   ]] , result)\n",
        "        Opensrmse = np.sqrt(metrics.mean_squared_error(test['Open'], inv_res.Open_1st_inv_diff))\n",
        "        Highrmse = np.sqrt(metrics.mean_squared_error(test['High'], inv_res.High_1st_inv_diff))\n",
        "        Lowrmse = np.sqrt(metrics.mean_squared_error(test['Low'], inv_res.Low_1st_inv_diff))\n",
        "        Closermse = np.sqrt(metrics.mean_squared_error(test['Close'], inv_res.Close_1st_inv_diff))\n",
        "        df_results_moni = df_results_moni.append({'p': i[0], 'q': i[2], 'RMSE Open':Opensrmse,'RMSE High':Highrmse,'RMSE Low':Lowrmse,'RMSE Close':Closermse }, ignore_index=True)\n",
        "end = timer()\n",
        "print(f' Total time taken to complete grid search in seconds: {(end - start)}')"
      ],
      "metadata": {
        "colab": {
          "base_uri": "https://localhost:8080/"
        },
        "id": "TT1aoD66-ih2",
        "outputId": "ae92ee72-7a70-4c24-839a-7fe4a7129993"
      },
      "execution_count": null,
      "outputs": [
        {
          "output_type": "stream",
          "name": "stdout",
          "text": [
            "Grid Search Started\n",
            " Running for (0, 0, 2)\n",
            " Running for (0, 0, 2)\n",
            " Running for (0, 0, 1)\n",
            " Total time taken to complete grid search in seconds: 37.1437381479991\n"
          ]
        }
      ]
    },
    {
      "cell_type": "markdown",
      "source": [
        "# Print dataframe values in the sorted order of each feature RMSE"
      ],
      "metadata": {
        "id": "YfxO-v9crKji"
      }
    },
    {
      "cell_type": "code",
      "source": [
        "df_results_moni.sort_values(by = ['RMSE Open','RMSE High','RMSE Low','RMSE Close'] )"
      ],
      "metadata": {
        "colab": {
          "base_uri": "https://localhost:8080/",
          "height": 144
        },
        "id": "QwWD7Swx-idl",
        "outputId": "0b5f3a3c-bac8-4ee3-b291-940128f834b1"
      },
      "execution_count": null,
      "outputs": [
        {
          "output_type": "execute_result",
          "data": {
            "text/plain": [
              "     p    q   RMSE Open   RMSE High    RMSE Low  RMSE Close\n",
              "0  0.0  2.0  261.937258  187.739520  287.204221  317.840516\n",
              "1  0.0  2.0  261.937258  187.739520  287.204221  317.840516\n",
              "2  0.0  1.0  314.060836  209.752675  336.625108  345.664847"
            ],
            "text/html": [
              "\n",
              "  <div id=\"df-30abd2ac-962a-4081-8177-3af251a02f9a\">\n",
              "    <div class=\"colab-df-container\">\n",
              "      <div>\n",
              "<style scoped>\n",
              "    .dataframe tbody tr th:only-of-type {\n",
              "        vertical-align: middle;\n",
              "    }\n",
              "\n",
              "    .dataframe tbody tr th {\n",
              "        vertical-align: top;\n",
              "    }\n",
              "\n",
              "    .dataframe thead th {\n",
              "        text-align: right;\n",
              "    }\n",
              "</style>\n",
              "<table border=\"1\" class=\"dataframe\">\n",
              "  <thead>\n",
              "    <tr style=\"text-align: right;\">\n",
              "      <th></th>\n",
              "      <th>p</th>\n",
              "      <th>q</th>\n",
              "      <th>RMSE Open</th>\n",
              "      <th>RMSE High</th>\n",
              "      <th>RMSE Low</th>\n",
              "      <th>RMSE Close</th>\n",
              "    </tr>\n",
              "  </thead>\n",
              "  <tbody>\n",
              "    <tr>\n",
              "      <th>0</th>\n",
              "      <td>0.0</td>\n",
              "      <td>2.0</td>\n",
              "      <td>261.937258</td>\n",
              "      <td>187.739520</td>\n",
              "      <td>287.204221</td>\n",
              "      <td>317.840516</td>\n",
              "    </tr>\n",
              "    <tr>\n",
              "      <th>1</th>\n",
              "      <td>0.0</td>\n",
              "      <td>2.0</td>\n",
              "      <td>261.937258</td>\n",
              "      <td>187.739520</td>\n",
              "      <td>287.204221</td>\n",
              "      <td>317.840516</td>\n",
              "    </tr>\n",
              "    <tr>\n",
              "      <th>2</th>\n",
              "      <td>0.0</td>\n",
              "      <td>1.0</td>\n",
              "      <td>314.060836</td>\n",
              "      <td>209.752675</td>\n",
              "      <td>336.625108</td>\n",
              "      <td>345.664847</td>\n",
              "    </tr>\n",
              "  </tbody>\n",
              "</table>\n",
              "</div>\n",
              "      <button class=\"colab-df-convert\" onclick=\"convertToInteractive('df-30abd2ac-962a-4081-8177-3af251a02f9a')\"\n",
              "              title=\"Convert this dataframe to an interactive table.\"\n",
              "              style=\"display:none;\">\n",
              "        \n",
              "  <svg xmlns=\"http://www.w3.org/2000/svg\" height=\"24px\"viewBox=\"0 0 24 24\"\n",
              "       width=\"24px\">\n",
              "    <path d=\"M0 0h24v24H0V0z\" fill=\"none\"/>\n",
              "    <path d=\"M18.56 5.44l.94 2.06.94-2.06 2.06-.94-2.06-.94-.94-2.06-.94 2.06-2.06.94zm-11 1L8.5 8.5l.94-2.06 2.06-.94-2.06-.94L8.5 2.5l-.94 2.06-2.06.94zm10 10l.94 2.06.94-2.06 2.06-.94-2.06-.94-.94-2.06-.94 2.06-2.06.94z\"/><path d=\"M17.41 7.96l-1.37-1.37c-.4-.4-.92-.59-1.43-.59-.52 0-1.04.2-1.43.59L10.3 9.45l-7.72 7.72c-.78.78-.78 2.05 0 2.83L4 21.41c.39.39.9.59 1.41.59.51 0 1.02-.2 1.41-.59l7.78-7.78 2.81-2.81c.8-.78.8-2.07 0-2.86zM5.41 20L4 18.59l7.72-7.72 1.47 1.35L5.41 20z\"/>\n",
              "  </svg>\n",
              "      </button>\n",
              "      \n",
              "  <style>\n",
              "    .colab-df-container {\n",
              "      display:flex;\n",
              "      flex-wrap:wrap;\n",
              "      gap: 12px;\n",
              "    }\n",
              "\n",
              "    .colab-df-convert {\n",
              "      background-color: #E8F0FE;\n",
              "      border: none;\n",
              "      border-radius: 50%;\n",
              "      cursor: pointer;\n",
              "      display: none;\n",
              "      fill: #1967D2;\n",
              "      height: 32px;\n",
              "      padding: 0 0 0 0;\n",
              "      width: 32px;\n",
              "    }\n",
              "\n",
              "    .colab-df-convert:hover {\n",
              "      background-color: #E2EBFA;\n",
              "      box-shadow: 0px 1px 2px rgba(60, 64, 67, 0.3), 0px 1px 3px 1px rgba(60, 64, 67, 0.15);\n",
              "      fill: #174EA6;\n",
              "    }\n",
              "\n",
              "    [theme=dark] .colab-df-convert {\n",
              "      background-color: #3B4455;\n",
              "      fill: #D2E3FC;\n",
              "    }\n",
              "\n",
              "    [theme=dark] .colab-df-convert:hover {\n",
              "      background-color: #434B5C;\n",
              "      box-shadow: 0px 1px 3px 1px rgba(0, 0, 0, 0.15);\n",
              "      filter: drop-shadow(0px 1px 2px rgba(0, 0, 0, 0.3));\n",
              "      fill: #FFFFFF;\n",
              "    }\n",
              "  </style>\n",
              "\n",
              "      <script>\n",
              "        const buttonEl =\n",
              "          document.querySelector('#df-30abd2ac-962a-4081-8177-3af251a02f9a button.colab-df-convert');\n",
              "        buttonEl.style.display =\n",
              "          google.colab.kernel.accessAllowed ? 'block' : 'none';\n",
              "\n",
              "        async function convertToInteractive(key) {\n",
              "          const element = document.querySelector('#df-30abd2ac-962a-4081-8177-3af251a02f9a');\n",
              "          const dataTable =\n",
              "            await google.colab.kernel.invokeFunction('convertToInteractive',\n",
              "                                                     [key], {});\n",
              "          if (!dataTable) return;\n",
              "\n",
              "          const docLinkHtml = 'Like what you see? Visit the ' +\n",
              "            '<a target=\"_blank\" href=https://colab.research.google.com/notebooks/data_table.ipynb>data table notebook</a>'\n",
              "            + ' to learn more about interactive tables.';\n",
              "          element.innerHTML = '';\n",
              "          dataTable['output_type'] = 'display_data';\n",
              "          await google.colab.output.renderOutput(dataTable, element);\n",
              "          const docLink = document.createElement('div');\n",
              "          docLink.innerHTML = docLinkHtml;\n",
              "          element.appendChild(docLink);\n",
              "        }\n",
              "      </script>\n",
              "    </div>\n",
              "  </div>\n",
              "  "
            ]
          },
          "metadata": {},
          "execution_count": 25
        }
      ]
    },
    {
      "cell_type": "markdown",
      "source": [
        "#### In the data frame according to the lowest RMSE, as shown above   parameters is (p = 0, q = 2) because it gives the least RMSE values."
      ],
      "metadata": {
        "id": "BQ1oh5UEuAbL"
      }
    },
    {
      "cell_type": "markdown",
      "source": [
        "### Fit the Model VARMAX:"
      ],
      "metadata": {
        "id": "T_iafBgS2ReO"
      }
    },
    {
      "cell_type": "code",
      "source": [
        "model = VARMAX(train_difference[[ 'Open', 'High', 'Low', 'Close' ]], order=(0,2)).fit( disp=False)\n",
        "result = model.forecast(steps = 30)"
      ],
      "metadata": {
        "id": "UWLFKnUj-iSQ"
      },
      "execution_count": null,
      "outputs": []
    },
    {
      "cell_type": "code",
      "source": [
        "var_m = inverse_diff(df[['Open', 'High', 'Low', 'Close' ]],result)"
      ],
      "metadata": {
        "id": "jeL428ws-iN1"
      },
      "execution_count": null,
      "outputs": []
    },
    {
      "cell_type": "code",
      "source": [
        "var_m"
      ],
      "metadata": {
        "colab": {
          "base_uri": "https://localhost:8080/",
          "height": 990
        },
        "id": "KzFvPFJPBPN2",
        "outputId": "059f1b1a-491d-4608-9de3-3c6ca2275162"
      },
      "execution_count": null,
      "outputs": [
        {
          "output_type": "execute_result",
          "data": {
            "text/plain": [
              "          Open        High        Low      Close  Open_1st_inv_diff  \\\n",
              "231 -98.000076 -128.246583 -17.130268  -5.590247       19930.619065   \n",
              "232 -14.842427  -37.240117  -2.697406  -7.309380       19915.776638   \n",
              "233  15.361895   15.537780  16.851553  16.495307       19931.138533   \n",
              "234  15.361895   15.537780  16.851553  16.495307       19946.500428   \n",
              "235  15.361895   15.537780  16.851553  16.495307       19961.862323   \n",
              "236  15.361895   15.537780  16.851553  16.495307       19977.224218   \n",
              "237  15.361895   15.537780  16.851553  16.495307       19992.586113   \n",
              "238  15.361895   15.537780  16.851553  16.495307       20007.948008   \n",
              "239  15.361895   15.537780  16.851553  16.495307       20023.309902   \n",
              "240  15.361895   15.537780  16.851553  16.495307       20038.671797   \n",
              "241  15.361895   15.537780  16.851553  16.495307       20054.033692   \n",
              "242  15.361895   15.537780  16.851553  16.495307       20069.395587   \n",
              "243  15.361895   15.537780  16.851553  16.495307       20084.757482   \n",
              "244  15.361895   15.537780  16.851553  16.495307       20100.119377   \n",
              "245  15.361895   15.537780  16.851553  16.495307       20115.481272   \n",
              "246  15.361895   15.537780  16.851553  16.495307       20130.843167   \n",
              "247  15.361895   15.537780  16.851553  16.495307       20146.205062   \n",
              "248  15.361895   15.537780  16.851553  16.495307       20161.566957   \n",
              "249  15.361895   15.537780  16.851553  16.495307       20176.928852   \n",
              "250  15.361895   15.537780  16.851553  16.495307       20192.290746   \n",
              "251  15.361895   15.537780  16.851553  16.495307       20207.652641   \n",
              "252  15.361895   15.537780  16.851553  16.495307       20223.014536   \n",
              "253  15.361895   15.537780  16.851553  16.495307       20238.376431   \n",
              "254  15.361895   15.537780  16.851553  16.495307       20253.738326   \n",
              "255  15.361895   15.537780  16.851553  16.495307       20269.100221   \n",
              "256  15.361895   15.537780  16.851553  16.495307       20284.462116   \n",
              "257  15.361895   15.537780  16.851553  16.495307       20299.824011   \n",
              "258  15.361895   15.537780  16.851553  16.495307       20315.185906   \n",
              "259  15.361895   15.537780  16.851553  16.495307       20330.547801   \n",
              "260  15.361895   15.537780  16.851553  16.495307       20345.909696   \n",
              "\n",
              "     High_1st_inv_diff  Low_1st_inv_diff  Close_1st_inv_diff  \n",
              "231       19900.372558      19853.260357        19965.540612  \n",
              "232       19863.132441      19850.562951        19958.231233  \n",
              "233       19878.670221      19867.414504        19974.726539  \n",
              "234       19894.208001      19884.266058        19991.221846  \n",
              "235       19909.745782      19901.117611        20007.717152  \n",
              "236       19925.283562      19917.969164        20024.212459  \n",
              "237       19940.821342      19934.820718        20040.707766  \n",
              "238       19956.359122      19951.672271        20057.203072  \n",
              "239       19971.896903      19968.523825        20073.698379  \n",
              "240       19987.434683      19985.375378        20090.193685  \n",
              "241       20002.972463      20002.226931        20106.688992  \n",
              "242       20018.510243      20019.078485        20123.184299  \n",
              "243       20034.048024      20035.930038        20139.679605  \n",
              "244       20049.585804      20052.781591        20156.174912  \n",
              "245       20065.123584      20069.633145        20172.670218  \n",
              "246       20080.661364      20086.484698        20189.165525  \n",
              "247       20096.199145      20103.336252        20205.660831  \n",
              "248       20111.736925      20120.187805        20222.156138  \n",
              "249       20127.274705      20137.039358        20238.651445  \n",
              "250       20142.812485      20153.890912        20255.146751  \n",
              "251       20158.350266      20170.742465        20271.642058  \n",
              "252       20173.888046      20187.594018        20288.137364  \n",
              "253       20189.425826      20204.445572        20304.632671  \n",
              "254       20204.963606      20221.297125        20321.127978  \n",
              "255       20220.501387      20238.148679        20337.623284  \n",
              "256       20236.039167      20255.000232        20354.118591  \n",
              "257       20251.576947      20271.851785        20370.613897  \n",
              "258       20267.114727      20288.703339        20387.109204  \n",
              "259       20282.652508      20305.554892        20403.604511  \n",
              "260       20298.190288      20322.406445        20420.099817  "
            ],
            "text/html": [
              "\n",
              "  <div id=\"df-43039429-f7e8-4e41-8284-6a12c542a008\">\n",
              "    <div class=\"colab-df-container\">\n",
              "      <div>\n",
              "<style scoped>\n",
              "    .dataframe tbody tr th:only-of-type {\n",
              "        vertical-align: middle;\n",
              "    }\n",
              "\n",
              "    .dataframe tbody tr th {\n",
              "        vertical-align: top;\n",
              "    }\n",
              "\n",
              "    .dataframe thead th {\n",
              "        text-align: right;\n",
              "    }\n",
              "</style>\n",
              "<table border=\"1\" class=\"dataframe\">\n",
              "  <thead>\n",
              "    <tr style=\"text-align: right;\">\n",
              "      <th></th>\n",
              "      <th>Open</th>\n",
              "      <th>High</th>\n",
              "      <th>Low</th>\n",
              "      <th>Close</th>\n",
              "      <th>Open_1st_inv_diff</th>\n",
              "      <th>High_1st_inv_diff</th>\n",
              "      <th>Low_1st_inv_diff</th>\n",
              "      <th>Close_1st_inv_diff</th>\n",
              "    </tr>\n",
              "  </thead>\n",
              "  <tbody>\n",
              "    <tr>\n",
              "      <th>231</th>\n",
              "      <td>-98.000076</td>\n",
              "      <td>-128.246583</td>\n",
              "      <td>-17.130268</td>\n",
              "      <td>-5.590247</td>\n",
              "      <td>19930.619065</td>\n",
              "      <td>19900.372558</td>\n",
              "      <td>19853.260357</td>\n",
              "      <td>19965.540612</td>\n",
              "    </tr>\n",
              "    <tr>\n",
              "      <th>232</th>\n",
              "      <td>-14.842427</td>\n",
              "      <td>-37.240117</td>\n",
              "      <td>-2.697406</td>\n",
              "      <td>-7.309380</td>\n",
              "      <td>19915.776638</td>\n",
              "      <td>19863.132441</td>\n",
              "      <td>19850.562951</td>\n",
              "      <td>19958.231233</td>\n",
              "    </tr>\n",
              "    <tr>\n",
              "      <th>233</th>\n",
              "      <td>15.361895</td>\n",
              "      <td>15.537780</td>\n",
              "      <td>16.851553</td>\n",
              "      <td>16.495307</td>\n",
              "      <td>19931.138533</td>\n",
              "      <td>19878.670221</td>\n",
              "      <td>19867.414504</td>\n",
              "      <td>19974.726539</td>\n",
              "    </tr>\n",
              "    <tr>\n",
              "      <th>234</th>\n",
              "      <td>15.361895</td>\n",
              "      <td>15.537780</td>\n",
              "      <td>16.851553</td>\n",
              "      <td>16.495307</td>\n",
              "      <td>19946.500428</td>\n",
              "      <td>19894.208001</td>\n",
              "      <td>19884.266058</td>\n",
              "      <td>19991.221846</td>\n",
              "    </tr>\n",
              "    <tr>\n",
              "      <th>235</th>\n",
              "      <td>15.361895</td>\n",
              "      <td>15.537780</td>\n",
              "      <td>16.851553</td>\n",
              "      <td>16.495307</td>\n",
              "      <td>19961.862323</td>\n",
              "      <td>19909.745782</td>\n",
              "      <td>19901.117611</td>\n",
              "      <td>20007.717152</td>\n",
              "    </tr>\n",
              "    <tr>\n",
              "      <th>236</th>\n",
              "      <td>15.361895</td>\n",
              "      <td>15.537780</td>\n",
              "      <td>16.851553</td>\n",
              "      <td>16.495307</td>\n",
              "      <td>19977.224218</td>\n",
              "      <td>19925.283562</td>\n",
              "      <td>19917.969164</td>\n",
              "      <td>20024.212459</td>\n",
              "    </tr>\n",
              "    <tr>\n",
              "      <th>237</th>\n",
              "      <td>15.361895</td>\n",
              "      <td>15.537780</td>\n",
              "      <td>16.851553</td>\n",
              "      <td>16.495307</td>\n",
              "      <td>19992.586113</td>\n",
              "      <td>19940.821342</td>\n",
              "      <td>19934.820718</td>\n",
              "      <td>20040.707766</td>\n",
              "    </tr>\n",
              "    <tr>\n",
              "      <th>238</th>\n",
              "      <td>15.361895</td>\n",
              "      <td>15.537780</td>\n",
              "      <td>16.851553</td>\n",
              "      <td>16.495307</td>\n",
              "      <td>20007.948008</td>\n",
              "      <td>19956.359122</td>\n",
              "      <td>19951.672271</td>\n",
              "      <td>20057.203072</td>\n",
              "    </tr>\n",
              "    <tr>\n",
              "      <th>239</th>\n",
              "      <td>15.361895</td>\n",
              "      <td>15.537780</td>\n",
              "      <td>16.851553</td>\n",
              "      <td>16.495307</td>\n",
              "      <td>20023.309902</td>\n",
              "      <td>19971.896903</td>\n",
              "      <td>19968.523825</td>\n",
              "      <td>20073.698379</td>\n",
              "    </tr>\n",
              "    <tr>\n",
              "      <th>240</th>\n",
              "      <td>15.361895</td>\n",
              "      <td>15.537780</td>\n",
              "      <td>16.851553</td>\n",
              "      <td>16.495307</td>\n",
              "      <td>20038.671797</td>\n",
              "      <td>19987.434683</td>\n",
              "      <td>19985.375378</td>\n",
              "      <td>20090.193685</td>\n",
              "    </tr>\n",
              "    <tr>\n",
              "      <th>241</th>\n",
              "      <td>15.361895</td>\n",
              "      <td>15.537780</td>\n",
              "      <td>16.851553</td>\n",
              "      <td>16.495307</td>\n",
              "      <td>20054.033692</td>\n",
              "      <td>20002.972463</td>\n",
              "      <td>20002.226931</td>\n",
              "      <td>20106.688992</td>\n",
              "    </tr>\n",
              "    <tr>\n",
              "      <th>242</th>\n",
              "      <td>15.361895</td>\n",
              "      <td>15.537780</td>\n",
              "      <td>16.851553</td>\n",
              "      <td>16.495307</td>\n",
              "      <td>20069.395587</td>\n",
              "      <td>20018.510243</td>\n",
              "      <td>20019.078485</td>\n",
              "      <td>20123.184299</td>\n",
              "    </tr>\n",
              "    <tr>\n",
              "      <th>243</th>\n",
              "      <td>15.361895</td>\n",
              "      <td>15.537780</td>\n",
              "      <td>16.851553</td>\n",
              "      <td>16.495307</td>\n",
              "      <td>20084.757482</td>\n",
              "      <td>20034.048024</td>\n",
              "      <td>20035.930038</td>\n",
              "      <td>20139.679605</td>\n",
              "    </tr>\n",
              "    <tr>\n",
              "      <th>244</th>\n",
              "      <td>15.361895</td>\n",
              "      <td>15.537780</td>\n",
              "      <td>16.851553</td>\n",
              "      <td>16.495307</td>\n",
              "      <td>20100.119377</td>\n",
              "      <td>20049.585804</td>\n",
              "      <td>20052.781591</td>\n",
              "      <td>20156.174912</td>\n",
              "    </tr>\n",
              "    <tr>\n",
              "      <th>245</th>\n",
              "      <td>15.361895</td>\n",
              "      <td>15.537780</td>\n",
              "      <td>16.851553</td>\n",
              "      <td>16.495307</td>\n",
              "      <td>20115.481272</td>\n",
              "      <td>20065.123584</td>\n",
              "      <td>20069.633145</td>\n",
              "      <td>20172.670218</td>\n",
              "    </tr>\n",
              "    <tr>\n",
              "      <th>246</th>\n",
              "      <td>15.361895</td>\n",
              "      <td>15.537780</td>\n",
              "      <td>16.851553</td>\n",
              "      <td>16.495307</td>\n",
              "      <td>20130.843167</td>\n",
              "      <td>20080.661364</td>\n",
              "      <td>20086.484698</td>\n",
              "      <td>20189.165525</td>\n",
              "    </tr>\n",
              "    <tr>\n",
              "      <th>247</th>\n",
              "      <td>15.361895</td>\n",
              "      <td>15.537780</td>\n",
              "      <td>16.851553</td>\n",
              "      <td>16.495307</td>\n",
              "      <td>20146.205062</td>\n",
              "      <td>20096.199145</td>\n",
              "      <td>20103.336252</td>\n",
              "      <td>20205.660831</td>\n",
              "    </tr>\n",
              "    <tr>\n",
              "      <th>248</th>\n",
              "      <td>15.361895</td>\n",
              "      <td>15.537780</td>\n",
              "      <td>16.851553</td>\n",
              "      <td>16.495307</td>\n",
              "      <td>20161.566957</td>\n",
              "      <td>20111.736925</td>\n",
              "      <td>20120.187805</td>\n",
              "      <td>20222.156138</td>\n",
              "    </tr>\n",
              "    <tr>\n",
              "      <th>249</th>\n",
              "      <td>15.361895</td>\n",
              "      <td>15.537780</td>\n",
              "      <td>16.851553</td>\n",
              "      <td>16.495307</td>\n",
              "      <td>20176.928852</td>\n",
              "      <td>20127.274705</td>\n",
              "      <td>20137.039358</td>\n",
              "      <td>20238.651445</td>\n",
              "    </tr>\n",
              "    <tr>\n",
              "      <th>250</th>\n",
              "      <td>15.361895</td>\n",
              "      <td>15.537780</td>\n",
              "      <td>16.851553</td>\n",
              "      <td>16.495307</td>\n",
              "      <td>20192.290746</td>\n",
              "      <td>20142.812485</td>\n",
              "      <td>20153.890912</td>\n",
              "      <td>20255.146751</td>\n",
              "    </tr>\n",
              "    <tr>\n",
              "      <th>251</th>\n",
              "      <td>15.361895</td>\n",
              "      <td>15.537780</td>\n",
              "      <td>16.851553</td>\n",
              "      <td>16.495307</td>\n",
              "      <td>20207.652641</td>\n",
              "      <td>20158.350266</td>\n",
              "      <td>20170.742465</td>\n",
              "      <td>20271.642058</td>\n",
              "    </tr>\n",
              "    <tr>\n",
              "      <th>252</th>\n",
              "      <td>15.361895</td>\n",
              "      <td>15.537780</td>\n",
              "      <td>16.851553</td>\n",
              "      <td>16.495307</td>\n",
              "      <td>20223.014536</td>\n",
              "      <td>20173.888046</td>\n",
              "      <td>20187.594018</td>\n",
              "      <td>20288.137364</td>\n",
              "    </tr>\n",
              "    <tr>\n",
              "      <th>253</th>\n",
              "      <td>15.361895</td>\n",
              "      <td>15.537780</td>\n",
              "      <td>16.851553</td>\n",
              "      <td>16.495307</td>\n",
              "      <td>20238.376431</td>\n",
              "      <td>20189.425826</td>\n",
              "      <td>20204.445572</td>\n",
              "      <td>20304.632671</td>\n",
              "    </tr>\n",
              "    <tr>\n",
              "      <th>254</th>\n",
              "      <td>15.361895</td>\n",
              "      <td>15.537780</td>\n",
              "      <td>16.851553</td>\n",
              "      <td>16.495307</td>\n",
              "      <td>20253.738326</td>\n",
              "      <td>20204.963606</td>\n",
              "      <td>20221.297125</td>\n",
              "      <td>20321.127978</td>\n",
              "    </tr>\n",
              "    <tr>\n",
              "      <th>255</th>\n",
              "      <td>15.361895</td>\n",
              "      <td>15.537780</td>\n",
              "      <td>16.851553</td>\n",
              "      <td>16.495307</td>\n",
              "      <td>20269.100221</td>\n",
              "      <td>20220.501387</td>\n",
              "      <td>20238.148679</td>\n",
              "      <td>20337.623284</td>\n",
              "    </tr>\n",
              "    <tr>\n",
              "      <th>256</th>\n",
              "      <td>15.361895</td>\n",
              "      <td>15.537780</td>\n",
              "      <td>16.851553</td>\n",
              "      <td>16.495307</td>\n",
              "      <td>20284.462116</td>\n",
              "      <td>20236.039167</td>\n",
              "      <td>20255.000232</td>\n",
              "      <td>20354.118591</td>\n",
              "    </tr>\n",
              "    <tr>\n",
              "      <th>257</th>\n",
              "      <td>15.361895</td>\n",
              "      <td>15.537780</td>\n",
              "      <td>16.851553</td>\n",
              "      <td>16.495307</td>\n",
              "      <td>20299.824011</td>\n",
              "      <td>20251.576947</td>\n",
              "      <td>20271.851785</td>\n",
              "      <td>20370.613897</td>\n",
              "    </tr>\n",
              "    <tr>\n",
              "      <th>258</th>\n",
              "      <td>15.361895</td>\n",
              "      <td>15.537780</td>\n",
              "      <td>16.851553</td>\n",
              "      <td>16.495307</td>\n",
              "      <td>20315.185906</td>\n",
              "      <td>20267.114727</td>\n",
              "      <td>20288.703339</td>\n",
              "      <td>20387.109204</td>\n",
              "    </tr>\n",
              "    <tr>\n",
              "      <th>259</th>\n",
              "      <td>15.361895</td>\n",
              "      <td>15.537780</td>\n",
              "      <td>16.851553</td>\n",
              "      <td>16.495307</td>\n",
              "      <td>20330.547801</td>\n",
              "      <td>20282.652508</td>\n",
              "      <td>20305.554892</td>\n",
              "      <td>20403.604511</td>\n",
              "    </tr>\n",
              "    <tr>\n",
              "      <th>260</th>\n",
              "      <td>15.361895</td>\n",
              "      <td>15.537780</td>\n",
              "      <td>16.851553</td>\n",
              "      <td>16.495307</td>\n",
              "      <td>20345.909696</td>\n",
              "      <td>20298.190288</td>\n",
              "      <td>20322.406445</td>\n",
              "      <td>20420.099817</td>\n",
              "    </tr>\n",
              "  </tbody>\n",
              "</table>\n",
              "</div>\n",
              "      <button class=\"colab-df-convert\" onclick=\"convertToInteractive('df-43039429-f7e8-4e41-8284-6a12c542a008')\"\n",
              "              title=\"Convert this dataframe to an interactive table.\"\n",
              "              style=\"display:none;\">\n",
              "        \n",
              "  <svg xmlns=\"http://www.w3.org/2000/svg\" height=\"24px\"viewBox=\"0 0 24 24\"\n",
              "       width=\"24px\">\n",
              "    <path d=\"M0 0h24v24H0V0z\" fill=\"none\"/>\n",
              "    <path d=\"M18.56 5.44l.94 2.06.94-2.06 2.06-.94-2.06-.94-.94-2.06-.94 2.06-2.06.94zm-11 1L8.5 8.5l.94-2.06 2.06-.94-2.06-.94L8.5 2.5l-.94 2.06-2.06.94zm10 10l.94 2.06.94-2.06 2.06-.94-2.06-.94-.94-2.06-.94 2.06-2.06.94z\"/><path d=\"M17.41 7.96l-1.37-1.37c-.4-.4-.92-.59-1.43-.59-.52 0-1.04.2-1.43.59L10.3 9.45l-7.72 7.72c-.78.78-.78 2.05 0 2.83L4 21.41c.39.39.9.59 1.41.59.51 0 1.02-.2 1.41-.59l7.78-7.78 2.81-2.81c.8-.78.8-2.07 0-2.86zM5.41 20L4 18.59l7.72-7.72 1.47 1.35L5.41 20z\"/>\n",
              "  </svg>\n",
              "      </button>\n",
              "      \n",
              "  <style>\n",
              "    .colab-df-container {\n",
              "      display:flex;\n",
              "      flex-wrap:wrap;\n",
              "      gap: 12px;\n",
              "    }\n",
              "\n",
              "    .colab-df-convert {\n",
              "      background-color: #E8F0FE;\n",
              "      border: none;\n",
              "      border-radius: 50%;\n",
              "      cursor: pointer;\n",
              "      display: none;\n",
              "      fill: #1967D2;\n",
              "      height: 32px;\n",
              "      padding: 0 0 0 0;\n",
              "      width: 32px;\n",
              "    }\n",
              "\n",
              "    .colab-df-convert:hover {\n",
              "      background-color: #E2EBFA;\n",
              "      box-shadow: 0px 1px 2px rgba(60, 64, 67, 0.3), 0px 1px 3px 1px rgba(60, 64, 67, 0.15);\n",
              "      fill: #174EA6;\n",
              "    }\n",
              "\n",
              "    [theme=dark] .colab-df-convert {\n",
              "      background-color: #3B4455;\n",
              "      fill: #D2E3FC;\n",
              "    }\n",
              "\n",
              "    [theme=dark] .colab-df-convert:hover {\n",
              "      background-color: #434B5C;\n",
              "      box-shadow: 0px 1px 3px 1px rgba(0, 0, 0, 0.15);\n",
              "      filter: drop-shadow(0px 1px 2px rgba(0, 0, 0, 0.3));\n",
              "      fill: #FFFFFF;\n",
              "    }\n",
              "  </style>\n",
              "\n",
              "      <script>\n",
              "        const buttonEl =\n",
              "          document.querySelector('#df-43039429-f7e8-4e41-8284-6a12c542a008 button.colab-df-convert');\n",
              "        buttonEl.style.display =\n",
              "          google.colab.kernel.accessAllowed ? 'block' : 'none';\n",
              "\n",
              "        async function convertToInteractive(key) {\n",
              "          const element = document.querySelector('#df-43039429-f7e8-4e41-8284-6a12c542a008');\n",
              "          const dataTable =\n",
              "            await google.colab.kernel.invokeFunction('convertToInteractive',\n",
              "                                                     [key], {});\n",
              "          if (!dataTable) return;\n",
              "\n",
              "          const docLinkHtml = 'Like what you see? Visit the ' +\n",
              "            '<a target=\"_blank\" href=https://colab.research.google.com/notebooks/data_table.ipynb>data table notebook</a>'\n",
              "            + ' to learn more about interactive tables.';\n",
              "          element.innerHTML = '';\n",
              "          dataTable['output_type'] = 'display_data';\n",
              "          await google.colab.output.renderOutput(dataTable, element);\n",
              "          const docLink = document.createElement('div');\n",
              "          docLink.innerHTML = docLinkHtml;\n",
              "          element.appendChild(docLink);\n",
              "        }\n",
              "      </script>\n",
              "    </div>\n",
              "  </div>\n",
              "  "
            ]
          },
          "metadata": {},
          "execution_count": 28
        }
      ]
    },
    {
      "cell_type": "markdown",
      "source": [
        "### As shown below, it is the evaluation metrics for every time series in the multivariate time series."
      ],
      "metadata": {
        "id": "LVwFFXtR2iyR"
      }
    },
    {
      "cell_type": "code",
      "source": [
        "for i in ['Open', 'High', 'Low', 'Close' ]:\n",
        "    print(f'Evaluation metric for {i}')\n",
        "    timeseries_evaluation_metrics_func(test[str(i)] , var_m[str(i)+'_1st_inv_diff'])"
      ],
      "metadata": {
        "colab": {
          "base_uri": "https://localhost:8080/"
        },
        "id": "LwDHgWsn-iHm",
        "outputId": "36dcd3a9-8ee3-4ff9-d2db-0bc61d339151"
      },
      "execution_count": null,
      "outputs": [
        {
          "output_type": "stream",
          "name": "stdout",
          "text": [
            "Evaluation metric for Open\n",
            "Evaluation metric results:-\n",
            "MSE is : 68611.12732869301\n",
            "MAE is : 222.77716674402183\n",
            "RMSE is : 261.93725838202744\n",
            "MAPE is : 1.120407788491005\n",
            "R2 is : -10.22366416109334\n",
            "\n",
            "Evaluation metric for High\n",
            "Evaluation metric results:-\n",
            "MSE is : 35246.1272572484\n",
            "MAE is : 150.78288093176573\n",
            "RMSE is : 187.73951970016435\n",
            "MAPE is : 0.7567379251151677\n",
            "R2 is : -5.332939818299558\n",
            "\n",
            "Evaluation metric for Low\n",
            "Evaluation metric results:-\n",
            "MSE is : 82486.26477920833\n",
            "MAE is : 239.3196109964825\n",
            "RMSE is : 287.204221381247\n",
            "MAPE is : 1.2078218605737636\n",
            "R2 is : -8.659213646838547\n",
            "\n",
            "Evaluation metric for Close\n",
            "Evaluation metric results:-\n",
            "MSE is : 101022.59332160372\n",
            "MAE is : 281.44332723649654\n",
            "RMSE is : 317.840515544516\n",
            "MAPE is : 1.4154845730518415\n",
            "R2 is : -12.335034814150434\n",
            "\n"
          ]
        }
      ]
    },
    {
      "cell_type": "markdown",
      "source": [
        "# Plot:"
      ],
      "metadata": {
        "id": "_LXNXPNF2wXR"
      }
    },
    {
      "cell_type": "code",
      "source": [
        "%matplotlib inline\n",
        "for i in ['Open', 'High', 'Low', 'Close' ]:\n",
        "    \n",
        "    plt.rcParams[\"figure.figsize\"] = [10,7]\n",
        "    plt.plot( train[str(i)], label='Train '+str(i))\n",
        "    plt.plot(test[str(i)], label='Test '+str(i))\n",
        "    plt.plot(var_m[str(i)+'_1st_inv_diff'], label='Predicted '+str(i))\n",
        "    plt.legend(loc='best')\n",
        "    plt.show()"
      ],
      "metadata": {
        "colab": {
          "base_uri": "https://localhost:8080/",
          "height": 1000
        },
        "id": "HWlrW_DL-iA8",
        "outputId": "bc8ffd69-d80f-4973-f694-bce719e68628"
      },
      "execution_count": null,
      "outputs": [
        {
          "output_type": "display_data",
          "data": {
            "text/plain": [
              "<Figure size 720x504 with 1 Axes>"
            ],
            "image/png": "[encoded data removed]"
          },
          "metadata": {
            "needs_background": "light"
          }
        },
        {
          "output_type": "display_data",
          "data": {
            "text/plain": [
              "<Figure size 720x504 with 1 Axes>"
            ],
            "image/png": "[encoded data removed]"
          },
          "metadata": {
            "needs_background": "light"
          }
        },
        {
          "output_type": "display_data",
          "data": {
            "text/plain": [
              "<Figure size 720x504 with 1 Axes>"
            ],
            "image/png": "[encoded data removed]"
          },
          "metadata": {
            "needs_background": "light"
          }
        },
        {
          "output_type": "display_data",
          "data": {
            "text/plain": [
              "<Figure size 720x504 with 1 Axes>"
            ],
            "image/png": "[encoded data removed]"
          },
          "metadata": {
            "needs_background": "light"
          }
        }
      ]
    },
    {
      "cell_type": "markdown",
      "source": [
        "# Conclustion:"
      ],
      "metadata": {
        "id": "zk7QxY1R6nhs"
      }
    },
    {
      "cell_type": "markdown",
      "source": [
        "### In order to predict values for multivariate time series without trend and seasonal components, Vector Autoregressive Moving Average model (VARMA) is used. As shown above the future values for some variables in the data dataset namely, 'Open', 'High', 'Low' and 'Close'are predicted. The green line in each graph, represents the predicted values for each variables. This model has an improvment potential using exogenous data in order to achieve better and more precise results. The VARMA model which uses additional exogenous data is called VARMAX."
      ],
      "metadata": {
        "id": "z3jYhZ406sDE"
      }
    }
  ]
}